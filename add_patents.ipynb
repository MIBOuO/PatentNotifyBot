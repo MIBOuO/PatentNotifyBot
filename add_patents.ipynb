{
 "cells": [
  {
   "cell_type": "code",
   "execution_count": 3,
   "id": "264f0ac9-8396-43d0-8e73-dca27a4459b7",
   "metadata": {},
   "outputs": [],
   "source": [
    "import sqlite3\n",
    "import json\n",
    "\n",
    "def insert_json_to_database(json_file):\n",
    "    # 連接到資料庫\n",
    "    conn = sqlite3.connect('database.db')\n",
    "    cursor = conn.cursor()\n",
    "\n",
    "    # 讀取 JSON 檔案\n",
    "    with open(json_file, 'r',encoding='utf-8') as f:\n",
    "        json_data = json.load(f)\n",
    "\n",
    "    # 使用 INSERT INTO 陳述句將資料插入資料庫\n",
    "    query = \"INSERT INTO your_table_name (pid, url, title, date, ipc, image_url, content) VALUES (?, ?, ?, ?, ?, ?, ?)\"\n",
    "\n",
    "    for item in json_data:\n",
    "        # 提取 JSON 中的資料\n",
    "        pid = item['pid']\n",
    "        url = item['url']\n",
    "        title = item['title']\n",
    "        date = item['date']\n",
    "        ipc = item['ipc']\n",
    "        image_url = item['image_url']\n",
    "        content = item['content']\n",
    "\n",
    "        # 執行 INSERT INTO 陳述句\n",
    "        cursor.execute(query, (pid, url, title, date, ipc, image_url, content))\n",
    "\n",
    "    # 提交變更並關閉資料庫連接\n",
    "    conn.commit()\n",
    "    conn.close()\n",
    "\n",
    "# 呼叫函數，將 JSON 檔案新增到資料庫中\n",
    "insert_json_to_database('patent_example.json')\n"
   ]
  },
  {
   "cell_type": "code",
   "execution_count": null,
   "id": "0cc28893-89ac-4ebf-8022-d1db04dc64ce",
   "metadata": {},
   "outputs": [],
   "source": []
  }
 ],
 "metadata": {
  "kernelspec": {
   "display_name": "Python 3 (ipykernel)",
   "language": "python",
   "name": "python3"
  },
  "language_info": {
   "codemirror_mode": {
    "name": "ipython",
    "version": 3
   },
   "file_extension": ".py",
   "mimetype": "text/x-python",
   "name": "python",
   "nbconvert_exporter": "python",
   "pygments_lexer": "ipython3",
   "version": "3.9.7"
  }
 },
 "nbformat": 4,
 "nbformat_minor": 5
}
